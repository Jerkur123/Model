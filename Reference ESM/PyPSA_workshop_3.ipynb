{
 "cells": [
  {
   "cell_type": "markdown",
   "metadata": {},
   "source": [
    "### Problem 3: toy optimization problem with storage\n",
    "- two generators, single load, single bus\n",
    "- multiple time periods\n",
    "- a storage device"
   ]
  },
  {
   "cell_type": "code",
   "execution_count": null,
   "metadata": {},
   "outputs": [],
   "source": [
    "### Problem formulation\n",
    "# generator 1: \"gas\" (CCGT), marginal cost 70 EUR/MWh, capacity 50 MW\n",
    "# generator 2: \"coal\" (hard coal), marginal cost 40 EUR/MWh, capacity 100 MW\n",
    "# load: \"DE\" (Germany)\n",
    "# multiple time steps\n",
    "# storage device: \"battery\""
   ]
  },
  {
   "cell_type": "code",
   "execution_count": null,
   "metadata": {},
   "outputs": [],
   "source": [
    "import pypsa\n",
    "import numpy as np\n",
    "import pandas as pd\n",
    "import linopy\n",
    "import matplotlib.pyplot as plt"
   ]
  },
  {
   "cell_type": "markdown",
   "metadata": {},
   "source": [
    "### Create PyPSA network with components of the problem"
   ]
  },
  {
   "cell_type": "code",
   "execution_count": null,
   "metadata": {},
   "outputs": [],
   "source": [
    "n = pypsa.Network()"
   ]
  },
  {
   "cell_type": "code",
   "execution_count": null,
   "metadata": {},
   "outputs": [],
   "source": [
    "n.add(\"Bus\", \"DE\", v_nom=380)\n",
    "n.add(\n",
    "    \"Generator\",\n",
    "    \"gas\",\n",
    "    bus=\"DE\",\n",
    "    p_nom_extendable=False,\n",
    "    marginal_cost=70,  # €/MWh\n",
    "    p_nom=50,  # MW\n",
    ")\n",
    "n.add(\n",
    "    \"Generator\",\n",
    "    \"coal\",\n",
    "    bus=\"DE\",\n",
    "    p_nom_extendable=False,\n",
    "    marginal_cost=40,  # €/MWh\n",
    "    p_nom=70,  # MW\n",
    ")"
   ]
  },
  {
   "cell_type": "code",
   "execution_count": null,
   "metadata": {},
   "outputs": [],
   "source": [
    "n.snapshots = pd.date_range(\"2019-01-01\", periods=5, freq=\"H\")\n",
    "load_series = pd.Series([30, 60, 80, 100, 70], index=n.snapshots)"
   ]
  },
  {
   "cell_type": "code",
   "execution_count": null,
   "metadata": {},
   "outputs": [],
   "source": [
    "n.add(\n",
    "    \"Load\",\n",
    "    \"Germany\",\n",
    "    bus=\"DE\",\n",
    "    p_set=load_series,  # MW\n",
    ")"
   ]
  },
  {
   "cell_type": "code",
   "execution_count": null,
   "metadata": {},
   "outputs": [],
   "source": [
    "n.loads_t.p_set"
   ]
  },
  {
   "cell_type": "markdown",
   "metadata": {},
   "source": [
    "## Solve with PyPSA optimize module w/o storage"
   ]
  },
  {
   "cell_type": "code",
   "execution_count": null,
   "metadata": {},
   "outputs": [],
   "source": [
    "# n.optimize.create_model()"
   ]
  },
  {
   "cell_type": "code",
   "execution_count": null,
   "metadata": {},
   "outputs": [],
   "source": [
    "n.optimize(solver_name=\"glpk\")"
   ]
  },
  {
   "cell_type": "code",
   "execution_count": null,
   "metadata": {},
   "outputs": [],
   "source": [
    "n.objective"
   ]
  },
  {
   "cell_type": "code",
   "execution_count": null,
   "metadata": {},
   "outputs": [],
   "source": [
    "n.generators_t.p"
   ]
  },
  {
   "cell_type": "code",
   "execution_count": null,
   "metadata": {},
   "outputs": [],
   "source": [
    "def plot_dispatch(n):\n",
    "    df = n.generators_t.p\n",
    "    colors = {\"coal\": \"#8B4513\", \"gas\": \"#FFA500\"}\n",
    "    df = df[[\"coal\", \"gas\"]]\n",
    "    df.plot(kind=\"bar\", stacked=True, width=0.9, color=[colors[c] for c in df.columns])\n",
    "    plt.xticks(np.arange(len(df.index)), df.index.strftime(\"%H:%M\"))\n",
    "    plt.xticks(rotation=0)\n",
    "    plt.xlabel(\"Time\")\n",
    "    plt.ylabel(\"MW\")\n",
    "    plt.legend(loc=\"upper left\")\n",
    "    plt.show()\n",
    "\n",
    "\n",
    "plot_dispatch(n)"
   ]
  },
  {
   "cell_type": "markdown",
   "metadata": {},
   "source": [
    "### Retrieve electricity prices w/o storage"
   ]
  },
  {
   "cell_type": "code",
   "execution_count": null,
   "metadata": {},
   "outputs": [],
   "source": [
    "n.model.dual"
   ]
  },
  {
   "cell_type": "code",
   "execution_count": null,
   "metadata": {},
   "outputs": [],
   "source": [
    "prices = n.model.dual[\"Bus-nodal_balance\"].values\n",
    "series = pd.Series([item[0] for item in prices], index=n.snapshots.strftime(\"%H:%M\"))\n",
    "series.plot(marker=\"o\", linestyle=\"-\", color=\"black\")"
   ]
  },
  {
   "cell_type": "markdown",
   "metadata": {},
   "source": [
    "## Solve with PyPSA optimize module with storage device"
   ]
  },
  {
   "cell_type": "markdown",
   "metadata": {},
   "source": [
    "### Add battery storage"
   ]
  },
  {
   "cell_type": "code",
   "execution_count": null,
   "metadata": {},
   "outputs": [],
   "source": [
    "# see documentation: https://pypsa.readthedocs.io/en/latest/components.html#storage-unit\n",
    "\n",
    "n.add(\n",
    "    \"StorageUnit\",\n",
    "    \"Battery\",\n",
    "    bus=\"DE\",\n",
    "    p_nom_extendable=False,\n",
    "    p_nom=20,  # MW\n",
    "    max_hours=5,  # 20 MW * 5 hours = 100 MWh\n",
    "    efficiency_store=0.9,\n",
    "    efficiency_dispatch=0.9,\n",
    "    state_of_charge_initial=0,  # MWh\n",
    "    # cyclic_state_of_charge=True,\n",
    ")"
   ]
  },
  {
   "cell_type": "code",
   "execution_count": null,
   "metadata": {},
   "outputs": [],
   "source": [
    "# n.storage_units.T"
   ]
  },
  {
   "cell_type": "markdown",
   "metadata": {},
   "source": [
    "### Solve the problem with storage and revise results"
   ]
  },
  {
   "cell_type": "code",
   "execution_count": null,
   "metadata": {},
   "outputs": [],
   "source": [
    "# See documentation of storage unit equations: https://pypsa.readthedocs.io/en/latest/optimal_power_flow.html#storage-unit-constraints\n",
    "# ensure that the new variables and equations are added to the model\n",
    "n.optimize.create_model()"
   ]
  },
  {
   "cell_type": "code",
   "execution_count": null,
   "metadata": {},
   "outputs": [],
   "source": [
    "n.optimize(solver_name=\"glpk\")"
   ]
  },
  {
   "cell_type": "code",
   "execution_count": null,
   "metadata": {},
   "outputs": [],
   "source": [
    "# Objective w/o storage unit 14800.0\n",
    "n.objective"
   ]
  },
  {
   "cell_type": "code",
   "execution_count": null,
   "metadata": {},
   "outputs": [],
   "source": [
    "n.statistics.energy_balance(aggregate_time=False, aggregate_bus=False).loc[\n",
    "    :, :, \"AC\", \"DE\"\n",
    "]"
   ]
  },
  {
   "cell_type": "markdown",
   "metadata": {},
   "source": [
    "### Prepare dashboard"
   ]
  },
  {
   "cell_type": "code",
   "execution_count": null,
   "metadata": {},
   "outputs": [],
   "source": [
    "def dashboard(n):\n",
    "    def plot_balance(n, ax):\n",
    "        balance = (\n",
    "            n.statistics.energy_balance(aggregate_time=False, aggregate_bus=False)\n",
    "            .loc[:, :, \"AC\", \"DE\"]\n",
    "            .droplevel(1)\n",
    "        )\n",
    "        colors = {\"Load\": \"grey\", \"Generator\": \"blue\", \"StorageUnit\": \"black\"}\n",
    "        balance.T.plot(\n",
    "            kind=\"bar\",\n",
    "            stacked=True,\n",
    "            width=0.9,\n",
    "            color=[colors[c] for c in balance.index],\n",
    "            ax=ax,\n",
    "        )\n",
    "        ax.set_xticks(np.arange(len(balance.columns)))\n",
    "        ax.set_xticklabels(balance.columns.strftime(\"%H:%M\"), rotation=0)\n",
    "        ax.set_ylabel(\"MW\")\n",
    "        ax.legend(loc=\"upper left\")\n",
    "        ax.set_title(\"Energy Balance\")\n",
    "\n",
    "    # Create a 2x2 subplot grid\n",
    "    fig, axs = plt.subplots(2, 2, figsize=(10, 10))\n",
    "\n",
    "    # Plot 1: Energy Balance\n",
    "    plot_balance(n, axs[0, 0])\n",
    "\n",
    "    # Plot 2: Storage Unit Dispatch\n",
    "    dispatch_time = n.storage_units_t.p.index.strftime(\"%H:%M\")\n",
    "    axs[0, 1].plot(\n",
    "        dispatch_time,\n",
    "        n.storage_units_t.p.values,\n",
    "        marker=\"o\",\n",
    "        linestyle=\"-\",\n",
    "        color=\"black\",\n",
    "    )\n",
    "    axs[0, 1].set_ylabel(\"MW\")\n",
    "    axs[0, 1].set_title(\"Storage Dispatch\")\n",
    "\n",
    "    # Plot 3: Storage Unit State of Charge\n",
    "    state_of_charge_time = n.storage_units_t.state_of_charge.index.strftime(\"%H:%M\")\n",
    "    axs[1, 0].plot(\n",
    "        state_of_charge_time,\n",
    "        n.storage_units_t.state_of_charge.values,\n",
    "        marker=\"o\",\n",
    "        linestyle=\"-\",\n",
    "        color=\"black\",\n",
    "    )\n",
    "    axs[1, 0].set_ylabel(\"MWh\")\n",
    "    axs[1, 0].set_title(\"Storage State of Charge\")\n",
    "\n",
    "    # Plot 4: Prices\n",
    "    prices = n.model.dual[\"Bus-nodal_balance\"].values\n",
    "    series = pd.Series(\n",
    "        [item[0] for item in prices], index=n.snapshots.strftime(\"%H:%M\")\n",
    "    )\n",
    "    axs[1, 1].plot(\n",
    "        series.index, series.values, marker=\"o\", linestyle=\"-\", color=\"black\"\n",
    "    )\n",
    "    axs[1, 1].set_title(\"Electricity price estimate\")\n",
    "    axs[1, 1].set_ylabel(\"€/MWh\")\n",
    "\n",
    "    # Adjust layout\n",
    "    plt.tight_layout()\n",
    "    plt.show()"
   ]
  },
  {
   "cell_type": "code",
   "execution_count": null,
   "metadata": {},
   "outputs": [],
   "source": [
    "dashboard(n)"
   ]
  },
  {
   "cell_type": "markdown",
   "metadata": {},
   "source": [
    "## Changing stuff and seeing what happens"
   ]
  },
  {
   "cell_type": "markdown",
   "metadata": {},
   "source": [
    "### Scenario: unlimited storage, no losses"
   ]
  },
  {
   "cell_type": "code",
   "execution_count": null,
   "metadata": {},
   "outputs": [],
   "source": [
    "if len(n.storage_units) != 0:\n",
    "    n.remove(\"StorageUnit\", \"Battery\")"
   ]
  },
  {
   "cell_type": "code",
   "execution_count": null,
   "metadata": {},
   "outputs": [],
   "source": [
    "n.add(\n",
    "    \"StorageUnit\",\n",
    "    \"Battery\",\n",
    "    bus=\"DE\",\n",
    "    p_nom_extendable=False,\n",
    "    p_nom=100,  # MW\n",
    "    max_hours=10,  # 100 MW * 10 hours = 1000 MWh\n",
    "    efficiency_store=1,  # n0 losses\n",
    "    efficiency_dispatch=1,  # no losses\n",
    "    state_of_charge_initial=0,  # MWh\n",
    "    # cyclic_state_of_charge=True,\n",
    ")"
   ]
  },
  {
   "cell_type": "code",
   "execution_count": null,
   "metadata": {},
   "outputs": [],
   "source": [
    "n.optimize(solver_name=\"glpk\")\n",
    "dashboard(n)"
   ]
  },
  {
   "cell_type": "code",
   "execution_count": null,
   "metadata": {},
   "outputs": [],
   "source": [
    "n.objective"
   ]
  },
  {
   "cell_type": "markdown",
   "metadata": {},
   "source": [
    "### Scenario: 10 MW power x 1h duration storage, no losses"
   ]
  },
  {
   "cell_type": "code",
   "execution_count": null,
   "metadata": {},
   "outputs": [],
   "source": [
    "if len(n.storage_units) != 0:\n",
    "    n.remove(\"StorageUnit\", \"Battery\")"
   ]
  },
  {
   "cell_type": "code",
   "execution_count": null,
   "metadata": {},
   "outputs": [],
   "source": [
    "n.add(\n",
    "    \"StorageUnit\",\n",
    "    \"Battery\",\n",
    "    bus=\"DE\",\n",
    "    p_nom_extendable=False,\n",
    "    p_nom=10,  # MW\n",
    "    max_hours=1,  # 10 MW * 1 hours = 10 MWh\n",
    "    efficiency_store=1,  # n0 losses\n",
    "    efficiency_dispatch=1,  # no losses\n",
    "    state_of_charge_initial=0,  # MWh\n",
    "    # cyclic_state_of_charge=True,\n",
    ")"
   ]
  },
  {
   "cell_type": "code",
   "execution_count": null,
   "metadata": {},
   "outputs": [],
   "source": [
    "n.optimize(solver_name=\"glpk\")\n",
    "dashboard(n)"
   ]
  },
  {
   "cell_type": "markdown",
   "metadata": {},
   "source": [
    "### FInal Scenario: 20 MW power x 5h duration storage, losses 10% on discharge, 0% on charge"
   ]
  },
  {
   "cell_type": "code",
   "execution_count": null,
   "metadata": {},
   "outputs": [],
   "source": [
    "if len(n.storage_units) != 0:\n",
    "    n.remove(\"StorageUnit\", \"Battery\")"
   ]
  },
  {
   "cell_type": "code",
   "execution_count": null,
   "metadata": {},
   "outputs": [],
   "source": [
    "n.add(\n",
    "    \"StorageUnit\",\n",
    "    \"Battery\",\n",
    "    bus=\"DE\",\n",
    "    p_nom_extendable=False,\n",
    "    p_nom=20,  # MW\n",
    "    max_hours=5,  # 20 MW * 5 hours = 100 MWh\n",
    "    efficiency_store=1,  # 10% losses\n",
    "    efficiency_dispatch=0.9,  # no losses\n",
    "    state_of_charge_initial=0,  # MWh\n",
    "    # cyclic_state_of_charge=True,\n",
    ")"
   ]
  },
  {
   "cell_type": "code",
   "execution_count": null,
   "metadata": {},
   "outputs": [],
   "source": [
    "n.optimize(solver_name=\"glpk\")\n",
    "dashboard(n)"
   ]
  },
  {
   "cell_type": "markdown",
   "metadata": {},
   "source": [
    "### Why price in hour 01:00 is exactly 63 EUR/MWh?"
   ]
  },
  {
   "cell_type": "code",
   "execution_count": null,
   "metadata": {},
   "outputs": [],
   "source": [
    "n.model.dual[\"Bus-nodal_balance\"].values"
   ]
  },
  {
   "cell_type": "code",
   "execution_count": null,
   "metadata": {},
   "outputs": [],
   "source": [
    "# Hints:\n",
    "# n.model.dual['StorageUnit-fix-p_dispatch-upper']\n",
    "# n.model.dual['StorageUnit-fix-p_store-upper']\n",
    "# n.model.dual['StorageUnit-fix-state_of_charge-upper']\n",
    "# n.model.dual[\"Bus-nodal_balance\"]"
   ]
  },
  {
   "cell_type": "code",
   "execution_count": null,
   "metadata": {},
   "outputs": [],
   "source": []
  }
 ],
 "metadata": {
  "kernelspec": {
   "display_name": "pypsa-eur",
   "language": "python",
   "name": "python3"
  },
  "language_info": {
   "codemirror_mode": {
    "name": "ipython",
    "version": 3
   },
   "file_extension": ".py",
   "mimetype": "text/x-python",
   "name": "python",
   "nbconvert_exporter": "python",
   "pygments_lexer": "ipython3",
   "version": "3.11.7"
  }
 },
 "nbformat": 4,
 "nbformat_minor": 2
}
